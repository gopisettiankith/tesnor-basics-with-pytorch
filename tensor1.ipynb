{
  "nbformat": 4,
  "nbformat_minor": 0,
  "metadata": {
    "colab": {
      "name": "tensor1.ipynb",
      "provenance": []
    },
    "kernelspec": {
      "name": "python3",
      "display_name": "Python 3"
    }
  },
  "cells": [
    {
      "cell_type": "code",
      "metadata": {
        "id": "_kjc6ptQSesX",
        "colab_type": "code",
        "colab": {
          "base_uri": "https://localhost:8080/",
          "height": 52
        },
        "outputId": "4aa6ae25-f9e0-409c-bdd2-4eb3210844ef"
      },
      "source": [
        "!pip3 install torch\n",
        "import torch"
      ],
      "execution_count": 33,
      "outputs": [
        {
          "output_type": "stream",
          "text": [
            "Requirement already satisfied: torch in /usr/local/lib/python3.6/dist-packages (1.3.1)\n",
            "Requirement already satisfied: numpy in /usr/local/lib/python3.6/dist-packages (from torch) (1.17.5)\n"
          ],
          "name": "stdout"
        }
      ]
    },
    {
      "cell_type": "markdown",
      "metadata": {
        "id": "1MY7psCoTvGh",
        "colab_type": "text"
      },
      "source": [
        "tells the data type of a "
      ]
    },
    {
      "cell_type": "code",
      "metadata": {
        "id": "k_veq5v6TKWT",
        "colab_type": "code",
        "colab": {
          "base_uri": "https://localhost:8080/",
          "height": 52
        },
        "outputId": "d3a87403-2f08-4cde-f82d-9e9e1851ceeb"
      },
      "source": [
        "a=torch.tensor([1,2,3,6,78])\n",
        "print(a.dtype)  \n",
        "print(a.size) "
      ],
      "execution_count": 20,
      "outputs": [
        {
          "output_type": "stream",
          "text": [
            "torch.int64\n",
            "<built-in method size of Tensor object at 0x7f22db096990>\n"
          ],
          "name": "stdout"
        }
      ]
    },
    {
      "cell_type": "code",
      "metadata": {
        "id": "oLmZaYcXT1Hm",
        "colab_type": "code",
        "colab": {
          "base_uri": "https://localhost:8080/",
          "height": 35
        },
        "outputId": "c420df82-56da-43f8-d96d-a45edfa06b73"
      },
      "source": [
        "print(a[2])\n"
      ],
      "execution_count": 8,
      "outputs": [
        {
          "output_type": "stream",
          "text": [
            "tensor(3)\n"
          ],
          "name": "stdout"
        }
      ]
    },
    {
      "cell_type": "markdown",
      "metadata": {
        "id": "Z1-39WF1VTF8",
        "colab_type": "text"
      },
      "source": [
        "print(a[1:])"
      ]
    },
    {
      "cell_type": "code",
      "metadata": {
        "id": "5lwxQa5oY8Xf",
        "colab_type": "code",
        "colab": {
          "base_uri": "https://localhost:8080/",
          "height": 35
        },
        "outputId": "7fb5b9b0-a8c7-4708-a9a5-23da935d1695"
      },
      "source": [
        "f=torch.FloatTensor([1,2,5,6]) \n",
        "print(f)  #float tensor"
      ],
      "execution_count": 16,
      "outputs": [
        {
          "output_type": "stream",
          "text": [
            "tensor([1., 2., 5., 6.])\n"
          ],
          "name": "stdout"
        }
      ]
    },
    {
      "cell_type": "code",
      "metadata": {
        "colab_type": "code",
        "outputId": "775fcdf6-80d1-40fc-f5b8-d2508c4450e1",
        "id": "ooG0pj2daD3C",
        "colab": {
          "base_uri": "https://localhost:8080/",
          "height": 104
        }
      },
      "source": [
        "a.view(5,1)\n",
        "#similar to reshape like of numpy\n"
      ],
      "execution_count": 0,
      "outputs": [
        {
          "output_type": "execute_result",
          "data": {
            "text/plain": [
              "tensor([[ 1],\n",
              "        [ 2],\n",
              "        [ 3],\n",
              "        [ 6],\n",
              "        [78]])"
            ]
          },
          "metadata": {
            "tags": []
          },
          "execution_count": 21
        }
      ]
    },
    {
      "cell_type": "code",
      "metadata": {
        "colab_type": "code",
        "outputId": "467e65ed-a371-43ac-e796-90d56f4083a1",
        "id": "NcFCrWoMb69E",
        "colab": {
          "base_uri": "https://localhost:8080/",
          "height": 52
        }
      },
      "source": [
        "import numpy as np\n",
        "a=np.array([1,2,3,3,3])\n",
        "tensor_conversion=torch.from_numpy(a)\n",
        "print(tensor_conversion) #conversion of numpy into tensor \n",
        "print(tensor_conversion.type())# checking the type of coverted tensor\n",
        "\n"
      ],
      "execution_count": 0,
      "outputs": [
        {
          "output_type": "stream",
          "text": [
            "tensor([1, 2, 3, 3, 3])\n",
            "torch.LongTensor\n"
          ],
          "name": "stdout"
        }
      ]
    },
    {
      "cell_type": "code",
      "metadata": {
        "colab_type": "code",
        "outputId": "7ef9685f-249c-4bd7-ce1d-14876bd49722",
        "id": "O4Ehbn_KdBHC",
        "colab": {
          "base_uri": "https://localhost:8080/",
          "height": 35
        }
      },
      "source": [
        "tensor_to_numpyconversion=tensor_conversion.numpy() #tranversing using numpy() method\n",
        "print(tensor_to_numpyconversion) #converting the tensor back to numpy\n"
      ],
      "execution_count": 0,
      "outputs": [
        {
          "output_type": "stream",
          "text": [
            "[1 2 3 3 3]\n"
          ],
          "name": "stdout"
        }
      ]
    },
    {
      "cell_type": "code",
      "metadata": {
        "id": "bA31CQMtdBlx",
        "colab_type": "code",
        "colab": {
          "base_uri": "https://localhost:8080/",
          "height": 69
        },
        "outputId": "cd9c6d40-9c79-47aa-cf17-c5bdfbbcd8a4"
      },
      "source": [
        "t_one=torch.tensor([1,2,34,4])  #one dimesion tensor\n",
        "t_two=torch.tensor([2,3,44,4])  #one dimension tensor\n",
        "print(t_one+t_two)  #normal addition\n",
        "print(t_one*t_two)  #multiplication\n",
        "\n",
        "print(t_two*4)    #scalar multiplication\n"
      ],
      "execution_count": 41,
      "outputs": [
        {
          "output_type": "stream",
          "text": [
            "tensor([ 3,  5, 78,  8])\n",
            "tensor([   2,    6, 1496,   16])\n",
            "tensor([  8,  12, 176,  16])\n"
          ],
          "name": "stdout"
        }
      ]
    },
    {
      "cell_type": "code",
      "metadata": {
        "id": "J_peK5pQfXd9",
        "colab_type": "code",
        "colab": {
          "base_uri": "https://localhost:8080/",
          "height": 35
        },
        "outputId": "462a2750-8595-41b6-b202-76ec97636b70"
      },
      "source": [
        "dotproduct=torch.dot(t_one,t_two) #dot product\n",
        "print(dotproduct)"
      ],
      "execution_count": 42,
      "outputs": [
        {
          "output_type": "stream",
          "text": [
            "tensor(1520)\n"
          ],
          "name": "stdout"
        }
      ]
    },
    {
      "cell_type": "code",
      "metadata": {
        "id": "hXr5f37ngLl6",
        "colab_type": "code",
        "colab": {
          "base_uri": "https://localhost:8080/",
          "height": 283
        },
        "outputId": "66674b84-c3e0-4dda-fcf9-e90bc56fa76e"
      },
      "source": [
        "x=torch.linspace(10,12,5)\n",
        "y=torch.sqrt(x)\n",
        "\n",
        "import matplotlib.pyplot as plt \n",
        "\n",
        "plt.plot(x.numpy(),y.numpy()) #simple plotting"
      ],
      "execution_count": 46,
      "outputs": [
        {
          "output_type": "execute_result",
          "data": {
            "text/plain": [
              "[<matplotlib.lines.Line2D at 0x7f22dab4d9e8>]"
            ]
          },
          "metadata": {
            "tags": []
          },
          "execution_count": 46
        },
        {
          "output_type": "display_data",
          "data": {
            "image/png": "[encoded data removed]",
            "text/plain": [
              "<Figure size 432x288 with 1 Axes>"
            ]
          },
          "metadata": {
            "tags": []
          }
        }
      ]
    },
    {
      "cell_type": "code",
      "metadata": {
        "colab_type": "code",
        "outputId": "1264f9a5-a4b8-448b-e680-83992729e06f",
        "id": "KpGKiy5pjaDJ",
        "colab": {
          "base_uri": "https://localhost:8080/",
          "height": 173
        }
      },
      "source": [
        "mult_a@mult_b #matrix multpiplxTION\n"
      ],
      "execution_count": 57,
      "outputs": [
        {
          "output_type": "stream",
          "text": [
            "tensor([[0, 1, 2],\n",
            "        [3, 4, 5]])\n",
            "tensor([[1, 2, 3],\n",
            "        [4, 4, 5]])\n",
            "tensor([[1, 2],\n",
            "        [3, 4],\n",
            "        [4, 5]])\n"
          ],
          "name": "stdout"
        },
        {
          "output_type": "execute_result",
          "data": {
            "text/plain": [
              "tensor([[19, 25],\n",
              "        [36, 49]])"
            ]
          },
          "metadata": {
            "tags": []
          },
          "execution_count": 57
        }
      ]
    }
  ]
}